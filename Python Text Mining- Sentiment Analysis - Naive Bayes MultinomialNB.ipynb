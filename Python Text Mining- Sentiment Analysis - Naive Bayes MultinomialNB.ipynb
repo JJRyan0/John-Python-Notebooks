{
 "cells": [
  {
   "cell_type": "markdown",
   "metadata": {},
   "source": [
    "### Python Text Mining- Sentiment Analysis - Naive Bayes MultinomialNB -  Top 20 News Groups Data Set\n",
    "\n",
    "\n",
    "Problem Statement: How do we predict the relationship between an unseen document of sentences to a news topic for which it belongs to?"
   ]
  },
  {
   "cell_type": "markdown",
   "metadata": {},
   "source": [
    "### Import the text data"
   ]
  },
  {
   "cell_type": "code",
   "execution_count": 2,
   "metadata": {
    "collapsed": false
   },
   "outputs": [],
   "source": [
    "#imports the news group dataset\n",
    "from sklearn.datasets import fetch_20newsgroups\n",
    "cats= ['alt.atheism', 'soc.religion.christian','comp.graphics', 'sci.med']\n",
    "data_train = fetch_20newsgroups(subset='train',categories=cats, shuffle=True, random_state=50)\n",
    "import"
   ]
  },
  {
   "cell_type": "code",
   "execution_count": 8,
   "metadata": {
    "collapsed": false
   },
   "outputs": [
    {
     "data": {
      "text/plain": [
       "2257"
      ]
     },
     "execution_count": 8,
     "metadata": {},
     "output_type": "execute_result"
    }
   ],
   "source": [
    "#function to compute the length of the date attribute\n",
    "len(data_train.data)"
   ]
  },
  {
   "cell_type": "markdown",
   "metadata": {},
   "source": [
    "### Visualize the Target Variable"
   ]
  },
  {
   "cell_type": "code",
   "execution_count": 7,
   "metadata": {
    "collapsed": false
   },
   "outputs": [
    {
     "data": {
      "text/plain": [
       "['alt.atheism', 'comp.graphics', 'sci.med', 'soc.religion.christian']"
      ]
     },
     "execution_count": 7,
     "metadata": {},
     "output_type": "execute_result"
    }
   ],
   "source": [
    "#prints out the target categories/topics for analysis\n",
    "data_train.target_names"
   ]
  },
  {
   "cell_type": "code",
   "execution_count": 12,
   "metadata": {
    "collapsed": false
   },
   "outputs": [
    {
     "data": {
      "text/plain": [
       "<matplotlib.axes._subplots.AxesSubplot at 0x11047c18>"
      ]
     },
     "execution_count": 12,
     "metadata": {},
     "output_type": "execute_result"
    },
    {
     "data": {
      "image/png": "[encoded data removed]",
      "text/plain": [
       "<matplotlib.figure.Figure at 0x10f09828>"
      ]
     },
     "metadata": {},
     "output_type": "display_data"
    }
   ],
   "source": [
    "#Visual representation of the text features\n",
    "import seaborn as sns\n",
    "import matplotlib.pyplot as plt\n",
    "sns.set_style('whitegrid')\n",
    "%matplotlib inline\n",
    "sns.countplot(x=\"target_names\", data=data_train)"
   ]
  },
  {
   "cell_type": "markdown",
   "metadata": {},
   "source": [
    "### Preprocessing: Retrieving text features from the file corpus"
   ]
  },
  {
   "cell_type": "markdown",
   "metadata": {},
   "source": [
    "#### 1. Count Vectorizer"
   ]
  },
  {
   "cell_type": "code",
   "execution_count": 13,
   "metadata": {
    "collapsed": false
   },
   "outputs": [
    {
     "data": {
      "text/plain": [
       "(2257, 35788)"
      ]
     },
     "execution_count": 13,
     "metadata": {},
     "output_type": "execute_result"
    }
   ],
   "source": [
    "#creates a vector with the count of words in the entire document\n",
    "from sklearn.feature_extraction.text import CountVectorizer\n",
    "count_vect = CountVectorizer()\n",
    "X_train_counts = count_vect.fit_transform(data_train.data)\n",
    "X_train_counts.shape"
   ]
  },
  {
   "cell_type": "markdown",
   "metadata": {},
   "source": [
    "#### 2. Count the number of occurrencies of terms within the text"
   ]
  },
  {
   "cell_type": "code",
   "execution_count": 18,
   "metadata": {
    "collapsed": false
   },
   "outputs": [
    {
     "name": "stdout",
     "output_type": "stream",
     "text": [
      "  (0, 26741)\t0.160128153805\n",
      "  (0, 15699)\t0.160128153805\n",
      "  (0, 31106)\t0.160128153805\n",
      "  (0, 28469)\t0.160128153805\n",
      "  (0, 22255)\t0.160128153805\n",
      "  (0, 13255)\t0.160128153805\n",
      "  (0, 9183)\t0.32025630761\n",
      "  (0, 21362)\t0.160128153805\n",
      "  (0, 25777)\t0.160128153805\n",
      "  (0, 23610)\t0.160128153805\n",
      "  (0, 18044)\t0.160128153805\n",
      "  (0, 23915)\t0.160128153805\n",
      "  (0, 32493)\t0.160128153805\n",
      "  (0, 27664)\t0.160128153805\n",
      "  (0, 20253)\t0.160128153805\n",
      "  (0, 30414)\t0.160128153805\n",
      "  (0, 32142)\t0.160128153805\n",
      "  (0, 23733)\t0.160128153805\n",
      "  (0, 12225)\t0.160128153805\n",
      "  (0, 5797)\t0.160128153805\n",
      "  (0, 31077)\t0.160128153805\n",
      "  (0, 31060)\t0.32025630761\n",
      "  (0, 18401)\t0.32025630761\n",
      "  (0, 34556)\t0.32025630761\n",
      "  (0, 34557)\t0.160128153805\n",
      "  :\t:\n",
      "  (2256, 22541)\t0.113227703414\n",
      "  (2256, 32417)\t0.113227703414\n",
      "  (2256, 9338)\t0.113227703414\n",
      "  (2256, 16216)\t0.113227703414\n",
      "  (2256, 31034)\t0.113227703414\n",
      "  (2256, 34982)\t0.113227703414\n",
      "  (2256, 7766)\t0.113227703414\n",
      "  (2256, 32138)\t0.113227703414\n",
      "  (2256, 21322)\t0.113227703414\n",
      "  (2256, 23741)\t0.113227703414\n",
      "  (2256, 17556)\t0.339683110243\n",
      "  (2256, 14601)\t0.226455406829\n",
      "  (2256, 20474)\t0.113227703414\n",
      "  (2256, 22776)\t0.113227703414\n",
      "  (2256, 28342)\t0.339683110243\n",
      "  (2256, 25507)\t0.226455406829\n",
      "  (2256, 30173)\t0.113227703414\n",
      "  (2256, 32270)\t0.113227703414\n",
      "  (2256, 12626)\t0.113227703414\n",
      "  (2256, 23915)\t0.113227703414\n",
      "  (2256, 32493)\t0.113227703414\n",
      "  (2256, 20253)\t0.113227703414\n",
      "  (2256, 32142)\t0.113227703414\n",
      "  (2256, 31077)\t0.113227703414\n",
      "  (2256, 14887)\t0.113227703414\n"
     ]
    }
   ],
   "source": [
    "#This will tokenize the corpus and return the sparse matrix. \n",
    "#From here, we'll be able to perform analyses involving word frequency.\n",
    "from sklearn.feature_extraction.text import TfidfTransformer\n",
    "termf_trans = TfidfTransformer(use_idf= False).fit(X_train_counts)\n",
    "X_train_termf = termf_trans.transform(X_train_counts)\n",
    "print(X_train_termf)"
   ]
  },
  {
   "cell_type": "markdown",
   "metadata": {},
   "source": [
    "### Machine Learning Model: Naive Bayes MultinomialNB\n",
    "\n",
    "Train a text classifier to predict the post topic i.e is the post related to science/medicine, religion or comp.graphics etc "
   ]
  },
  {
   "cell_type": "markdown",
   "metadata": {},
   "source": [
    "#### Naive Bayes MultinomialNB\n",
    "\n",
    "Naïve Bayes uses data about prior events to estimate the probability of future events.\n",
    "For instance, a common application of Naïve Bayes uses the frequency of words in past junk email messages to identify new junk mail.\n",
    "\n",
    "Classifiers based on Bayesian methods utilize training data to calculate an observed probability of each class based on feature values.\n",
    "\n",
    "When the classifier is used later on unlabeled data, it uses the observed probabilities to predict the most likely class for the new features."
   ]
  },
  {
   "cell_type": "code",
   "execution_count": 20,
   "metadata": {
    "collapsed": true
   },
   "outputs": [],
   "source": [
    "#import the Multinomial Naive Bayes function\n",
    "#creates and fits the model to the term frequency matrix & the target topics calcuated in previous steps\n",
    "from sklearn.naive_bayes import MultinomialNB\n",
    "nbmodel = MultinomialNB().fit(X_train_termf, data_train.target)"
   ]
  },
  {
   "cell_type": "markdown",
   "metadata": {},
   "source": [
    "##### Make Predictions on a new useen document of words\n",
    "\n"
   ]
  },
  {
   "cell_type": "code",
   "execution_count": 28,
   "metadata": {
    "collapsed": false
   },
   "outputs": [
    {
     "name": "stdout",
     "output_type": "stream",
     "text": [
      "'Jesus loves all' => soc.religion.christian\n",
      "'Coronary artery disease' => sci.med\n",
      "'Microsoft Azure' => comp.graphics\n",
      "'each program gets GPUs but with only 40% of the RAM' => comp.graphics\n",
      "'Autoencoders efficient representations of input data' => comp.graphics\n",
      "'nvidia GPU' => sci.med\n",
      "'benign diagnosis' => sci.med\n",
      "'God is love' => soc.religion.christian\n",
      "'a highly contagious viral infection of the respiratory passages causing fever, severe aching, and catarrh, and often occurring in epidemics' => sci.med\n",
      "'computational graph' => comp.graphics\n",
      "'' => soc.religion.christian\n"
     ]
    }
   ],
   "source": [
    "#create new text and extract new features same process as before.\n",
    "new_doc = ['Jesus loves all','Coronary artery disease','Microsoft Azure','each program gets GPUs but with only 40% of the RAM',\n",
    "           'Autoencoders efficient representations of input data', \n",
    "            'nvidia GPU','benign diagnosis','God is love', \n",
    "            'a highly contagious viral infection of the respiratory passages causing fever, severe aching, and catarrh, and often occurring in epidemics','computational graph', '']\n",
    "New_counts = count_vect.transform(new_doc)\n",
    "New_tfidf = termf_trans.fit_transform(New_counts)\n",
    "#make predictions of what topics/categories the new unseen documents belong to\n",
    "pred = nbmodel.predict(New_tfidf)\n",
    "for text, topic in zip(new_doc, pred):\n",
    "    print('%r => %s' % (text, data_train.target_names[topic]))"
   ]
  }
 ],
 "metadata": {
  "kernelspec": {
   "display_name": "Python 2",
   "language": "python",
   "name": "python2"
  },
  "language_info": {
   "codemirror_mode": {
    "name": "ipython",
    "version": 2
   },
   "file_extension": ".py",
   "mimetype": "text/x-python",
   "name": "python",
   "nbconvert_exporter": "python",
   "pygments_lexer": "ipython2",
   "version": "2.7.11"
  }
 },
 "nbformat": 4,
 "nbformat_minor": 0
}
