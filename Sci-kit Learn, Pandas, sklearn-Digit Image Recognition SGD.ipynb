{
 "cells": [
  {
   "cell_type": "markdown",
   "metadata": {},
   "source": [
    "## Sci-Kit Learn: Image Classification - Predicting Digits - Stocastic Gradient Descent (SGD)\n",
    "\n",
    "John Ryan - 18 May 2017\n",
    "\n",
    "### Digit Recognition - MNIST dataset\n",
    "\n",
    "Dataset containing 70,000 small images of handwritten digits.\n",
    "\n",
    "\n",
    "### Contents\n",
    "\n",
    "Step 1:\n",
    "\n",
    "- Preprocessing data\n",
    "\n",
    "- Stocastic Gradient Descent binary classifier\n",
    "\n",
    "- K-fold Cross Validation\n",
    "\n",
    "\n",
    "**What is Stocastic Gradient Descent?**\n",
    "\n",
    "It is a stochastic approximation of the gradient descent optimization algorithm for minimizing an objective function that is written as a sum of differentiable functions. It has the advantage of working on instances individually, one at a time which makes it highly efficent on large data sets. SGD picks a random instance in the raining set at every step and computes its gradients based only on the individual instance selected."
   ]
  },
  {
   "cell_type": "markdown",
   "metadata": {},
   "source": [
    "### 1. Fetching Digit Images"
   ]
  },
  {
   "cell_type": "code",
   "execution_count": 2,
   "metadata": {
    "collapsed": false
   },
   "outputs": [
    {
     "data": {
      "text/plain": [
       "{'COL_NAMES': ['label', 'data'],\n",
       " 'DESCR': 'mldata.org dataset: mnist-original',\n",
       " 'data': array([[0, 0, 0, ..., 0, 0, 0],\n",
       "        [0, 0, 0, ..., 0, 0, 0],\n",
       "        [0, 0, 0, ..., 0, 0, 0],\n",
       "        ..., \n",
       "        [0, 0, 0, ..., 0, 0, 0],\n",
       "        [0, 0, 0, ..., 0, 0, 0],\n",
       "        [0, 0, 0, ..., 0, 0, 0]], dtype=uint8),\n",
       " 'target': array([ 0.,  0.,  0., ...,  9.,  9.,  9.])}"
      ]
     },
     "execution_count": 2,
     "metadata": {},
     "output_type": "execute_result"
    }
   ],
   "source": [
    "#Import the dataset with a helper function from the sklearn machine learning dataset store\n",
    "from sklearn.datasets import fetch_mldata\n",
    "mnist = fetch_mldata('MNIST original')\n",
    "mnist"
   ]
  },
  {
   "cell_type": "code",
   "execution_count": 3,
   "metadata": {
    "collapsed": false
   },
   "outputs": [
    {
     "data": {
      "text/plain": [
       "(70000L, 784L)"
      ]
     },
     "execution_count": 3,
     "metadata": {},
     "output_type": "execute_result"
    }
   ],
   "source": [
    "#creating an X and Y variable to hold the data for training purposes later\n",
    "X, y = mnist[\"data\"], mnist[\"target\"]\n",
    "X.shape"
   ]
  },
  {
   "cell_type": "markdown",
   "metadata": {},
   "source": [
    "### 2. Preprocessing the images\n",
    "\n",
    "#### Train/Test Split\n",
    "\n",
    "- The dataset used for this example is already split into a training and test set using the first 60,000 images as a training set and the final 10,000 as the test set. Therefore we will not perform a normal train test split on the data. \n",
    "\n",
    "#### Shuffling\n",
    "\n",
    "- With image data that comes from different sources it is sometimes important to shuffle the dataset to get an even representation across the training and test set to remove any possibly of the model training on data that comes from one specific source.The obvious exception to this with data that has an ordering or time sequence.\n",
    "\n",
    "The shuffle will make sure that later in the cross validation stage the folds wont be non-similier and match in size. "
   ]
  },
  {
   "cell_type": "code",
   "execution_count": 5,
   "metadata": {
    "collapsed": false
   },
   "outputs": [],
   "source": [
    "#Shuffle the dataset across training and test sets\n",
    "import numpy as np\n",
    "X_train, X_test, y_train, y_test = X[:60000], X[:60000],y[:60000], y[:60000]\n",
    "shuffle = np.random.permutation(60000)\n",
    "X_train, y_train = X_train[shuffle], y_train[shuffle]"
   ]
  },
  {
   "cell_type": "markdown",
   "metadata": {},
   "source": [
    "#### Training the Classification Model"
   ]
  },
  {
   "cell_type": "code",
   "execution_count": 6,
   "metadata": {
    "collapsed": false
   },
   "outputs": [
    {
     "data": {
      "text/plain": [
       "array([False, False, False, ..., False, False, False], dtype=bool)"
      ]
     },
     "execution_count": 6,
     "metadata": {},
     "output_type": "execute_result"
    }
   ],
   "source": [
    "#Creates the target training & test set with just digit 4 binary target: 4 = True, other = False\n",
    "digit = X[6000]\n",
    "y_train4 = (y_train == 4)\n",
    "y_test4 = (y_train == 4)\n",
    "y_train4"
   ]
  },
  {
   "cell_type": "code",
   "execution_count": 9,
   "metadata": {
    "collapsed": false
   },
   "outputs": [
    {
     "data": {
      "image/png": "[encoded data removed]",
      "text/plain": [
       "<matplotlib.figure.Figure at 0x9a2dda0>"
      ]
     },
     "metadata": {},
     "output_type": "display_data"
    }
   ],
   "source": [
    "#import the plotting libaries and imshow to display the 29,000 image picked at random\n",
    "%matplotlib inline\n",
    "import matplotlib\n",
    "import matplotlib.pyplot as plt\n",
    "digit = X[20000]\n",
    "digit_im = digit.reshape(28,28)\n",
    "plt.imshow(digit_im, cmap = matplotlib.cm.binary,\n",
    "           interpolation=\"nearest\")\n",
    "plt.axis(\"off\")\n",
    "plt.show()"
   ]
  },
  {
   "cell_type": "markdown",
   "metadata": {},
   "source": [
    "### 3. Build Basic Classifier"
   ]
  },
  {
   "cell_type": "code",
   "execution_count": 6,
   "metadata": {
    "collapsed": false
   },
   "outputs": [
    {
     "data": {
      "text/plain": [
       "SGDClassifier(alpha=0.0001, average=False, class_weight=None, epsilon=0.1,\n",
       "       eta0=0.0, fit_intercept=True, l1_ratio=0.15,\n",
       "       learning_rate='optimal', loss='hinge', n_iter=5, n_jobs=1,\n",
       "       penalty='l2', power_t=0.5, random_state=60, shuffle=True, verbose=0,\n",
       "       warm_start=False)"
      ]
     },
     "execution_count": 6,
     "metadata": {},
     "output_type": "execute_result"
    }
   ],
   "source": [
    "#Create the SGD classifier, as the SGD relies on the randomness of the data\n",
    "#we need set a random state\n",
    "from sklearn.linear_model import SGDClassifier\n",
    "sgdmodel = SGDClassifier(random_state=60)\n",
    "sgdmodel.fit(X_train,y_train4)"
   ]
  },
  {
   "cell_type": "markdown",
   "metadata": {},
   "source": [
    "### 3.1 Prediction of the digit 4"
   ]
  },
  {
   "cell_type": "code",
   "execution_count": 7,
   "metadata": {
    "collapsed": false
   },
   "outputs": [
    {
     "data": {
      "text/plain": [
       "array([ True], dtype=bool)"
      ]
     },
     "execution_count": 7,
     "metadata": {},
     "output_type": "execute_result"
    }
   ],
   "source": [
    "#Call the predict function to identify if the digit is a 4, \n",
    "#true below indicates that it is.\n",
    "sgdmodel.predict([digit])"
   ]
  },
  {
   "cell_type": "markdown",
   "metadata": {},
   "source": [
    "### 4 Evaluating Model Performance\n",
    "\n",
    "##### 4.1. Cross-validation - Kfold \n",
    "\n",
    "##### What is KFold Cross - Validation?\n",
    "\n",
    "This means splitting the data into a number of folds specified to get a maximum prediction, in this we used 3.K fold cross validation will make prediction and evaluate a model performance on each fold using a model that has been trained on the other remaining folds.\n"
   ]
  },
  {
   "cell_type": "code",
   "execution_count": 8,
   "metadata": {
    "collapsed": false
   },
   "outputs": [
    {
     "data": {
      "text/plain": [
       "array([ 0.97315134,  0.9791    ,  0.96094805])"
      ]
     },
     "execution_count": 8,
     "metadata": {},
     "output_type": "execute_result"
    }
   ],
   "source": [
    "#this outputs a validation score using 3 folds\n",
    "from sklearn.model_selection import cross_val_score\n",
    "cross_val_score(sgdmodel,X_train, y_train4, cv=3, scoring='accuracy')"
   ]
  },
  {
   "cell_type": "code",
   "execution_count": 9,
   "metadata": {
    "collapsed": false
   },
   "outputs": [
    {
     "data": {
      "text/plain": [
       "array([ 0.96850525,  0.95884019,  0.97816667,  0.97566667,  0.97333333,\n",
       "        0.94433333,  0.9775    ,  0.961     ,  0.97549592,  0.97832972])"
      ]
     },
     "execution_count": 9,
     "metadata": {},
     "output_type": "execute_result"
    }
   ],
   "source": [
    "#this outputs a validation score using 3 folds\n",
    "from sklearn.model_selection import cross_val_score\n",
    "cross_val_score(sgdmodel,X_train, y_train4, cv=10, scoring='accuracy')"
   ]
  },
  {
   "cell_type": "markdown",
   "metadata": {},
   "source": [
    "We see strong results for the cross validation scores on the 3 folds, indicating a 97% accuracy which you would expect for a simple classifer that classifies that every image is not a 4."
   ]
  }
 ],
 "metadata": {
  "_draft": {
   "nbviewer_url": "https://gist.github.com/6331403f8aaf2e7b9d2b00ebf9181d69"
  },
  "gist": {
   "data": {
    "description": "Digit Image Recognition SGD.ipynb",
    "public": true
   },
   "id": "6331403f8aaf2e7b9d2b00ebf9181d69"
  },
  "kernelspec": {
   "display_name": "Python 2",
   "language": "python",
   "name": "python2"
  },
  "language_info": {
   "codemirror_mode": {
    "name": "ipython",
    "version": 2
   },
   "file_extension": ".py",
   "mimetype": "text/x-python",
   "name": "python",
   "nbconvert_exporter": "python",
   "pygments_lexer": "ipython2",
   "version": "2.7.13"
  }
 },
 "nbformat": 4,
 "nbformat_minor": 2
}
